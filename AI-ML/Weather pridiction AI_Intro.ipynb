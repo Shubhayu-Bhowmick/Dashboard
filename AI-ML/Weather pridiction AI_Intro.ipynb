{
  "metadata": {
    "kernelspec": {
      "display_name": "Pyolite",
      "language": "python",
      "name": "python"
    },
    "language_info": {
      "codemirror_mode": {
        "name": "python",
        "version": 3
      },
      "file_extension": ".py",
      "mimetype": "text/x-python",
      "name": "python",
      "nbconvert_exporter": "python",
      "pygments_lexer": "ipython3",
      "version": "3.8"
    }
  },
  "nbformat_minor": 5,
  "nbformat": 4,
  "cells": [
    {
      "cell_type": "code",
      "source": "import numpy as np\nimport pandas as pd\nimport matplotlib.pyplot as plt\nimport seaborn as sns",
      "metadata": {},
      "execution_count": null,
      "outputs": [],
      "id": "0fba2ce6-9af5-45ad-9c4c-0e2fd48894ca"
    },
    {
      "cell_type": "code",
      "source": "data = pd.read_csv(\"../input/weather-prediction/seattle-weather.csv\")",
      "metadata": {},
      "execution_count": null,
      "outputs": [],
      "id": "bb064e65-f67f-4b9c-90f4-d792807fbbcd"
    },
    {
      "cell_type": "code",
      "source": "data.head()",
      "metadata": {},
      "execution_count": null,
      "outputs": [],
      "id": "a1f245e3-6014-4588-b055-cf12eb2ea2cd"
    },
    {
      "cell_type": "code",
      "source": "data.tail()",
      "metadata": {},
      "execution_count": null,
      "outputs": [],
      "id": "a5b7cf2c-daa6-4140-a8c0-5392e8732e0b"
    },
    {
      "cell_type": "code",
      "source": "data.info()",
      "metadata": {},
      "execution_count": null,
      "outputs": [],
      "id": "f3e64ff2-a555-43ae-823f-60e6018aca1e"
    },
    {
      "cell_type": "code",
      "source": "data.isnull().sum()                                 ",
      "metadata": {},
      "execution_count": null,
      "outputs": [],
      "id": "088800d5-037b-4e86-87fd-d7a4c856fb05"
    },
    {
      "cell_type": "code",
      "source": "data.isnull().sum()                                ",
      "metadata": {},
      "execution_count": null,
      "outputs": [],
      "id": "8933cf24-f542-420e-83eb-70b3f251cce4"
    },
    {
      "cell_type": "code",
      "source": "data.nunique()                                    ",
      "metadata": {},
      "execution_count": null,
      "outputs": [],
      "id": "7bffa6fa-833e-4717-8a61-dd495843562f"
    },
    {
      "cell_type": "code",
      "source": "plt.figure(figsize=(12,7))\nsns.set_theme()\nsns.countplot(x = 'weather',data = data,palette=\"ch:start=.2,rot=-.3\")\nplt.xlabel(\"weather\",fontweight='bold',size=15)\nplt.ylabel(\"Count\",fontweight='bold',size=15)\nplt.show()   # to plot ",
      "metadata": {},
      "execution_count": null,
      "outputs": [],
      "id": "f69e7b60-30ec-42a1-b9f2-2961386a11bb"
    },
    {
      "cell_type": "code",
      "source": "plt.figure(figsize=(12,7))\nsns.set_theme()\nsns.lineplot(x = 'date',y='temp_max',data=data)\nplt.xlabel(\"Date\",fontweight='bold',size=15)\nplt.ylabel(\"Temp_Max\",fontweight='bold',size=15)\nplt.show()",
      "metadata": {},
      "execution_count": null,
      "outputs": [],
      "id": "57f25a12-4411-4d2a-9ce5-64638c942a8d"
    },
    {
      "cell_type": "code",
      "source": "plt.figure(figsize=(12,7))\nsns.set_theme()\nsns.lineplot(x = 'date',y='temp_min',data=data)\nplt.xlabel(\"Date\",fontweight='bold',size=15)\nplt.ylabel(\"Temp_Min\",fontweight='bold',size=15)\nplt.show()",
      "metadata": {},
      "execution_count": null,
      "outputs": [],
      "id": "6fa7790c-f5c7-42f5-a8de-e6389ba4a4c2"
    },
    {
      "cell_type": "code",
      "source": "plt.figure(figsize=(12,7))\nsns.set_theme()\nsns.lineplot(x = 'date',y='wind',data=data)\nplt.xlabel(\"Date\",fontweight='bold',size=15)\nplt.ylabel(\"wind\",fontweight='bold',size=15)\nplt.show()",
      "metadata": {},
      "execution_count": null,
      "outputs": [],
      "id": "c63dfcb8-9e21-4972-abbf-c0a5f3df9954"
    },
    {
      "cell_type": "code",
      "source": "plt.figure(figsize=(12,7))\nsns.pairplot(data.drop('date',axis=1),hue='weather',palette=\"YlOrBr\")\nplt.show()",
      "metadata": {},
      "execution_count": null,
      "outputs": [],
      "id": "2531debb-db4b-4e4d-a3c5-2700ae1879f4"
    },
    {
      "cell_type": "code",
      "source": "plt.figure(figsize=(12,7))\nsns.catplot(x='weather',y ='temp_max',data=data,palette=\"crest\")\nplt.show()",
      "metadata": {},
      "execution_count": null,
      "outputs": [],
      "id": "6dcacd72-f007-44b1-9d95-28b81fe14c40"
    },
    {
      "cell_type": "code",
      "source": "plt.figure(figsize=(12,7))\nsns.catplot(x='weather',y ='temp_min',data=data,palette = \"RdBu\")\nplt.show()",
      "metadata": {},
      "execution_count": null,
      "outputs": [],
      "id": "ae84aebd-09ce-470a-896c-bb4e0924e221"
    },
    {
      "cell_type": "code",
      "source": "sns.catplot(x='weather',y ='precipitation',data=data,palette = \"viridis\")\nplt.show()",
      "metadata": {},
      "execution_count": null,
      "outputs": [],
      "id": "dda92d4c-387b-4759-8c65-622be055598f"
    },
    {
      "cell_type": "code",
      "source": "fig, axes = plt.subplots(2, 2, figsize=(12, 7))\n\nfig.suptitle('Price Range vs all numerical factor')\n\nsns.scatterplot(ax=axes[0, 0], data=data, x='weather', y='precipitation')\nsns.scatterplot(ax=axes[0, 1], data=data, x='weather', y='temp_max')\nsns.scatterplot(ax=axes[1, 0], data=data, x='weather', y='temp_min')\nsns.scatterplot(ax=axes[1, 1], data=data, x='weather', y='wind')\nplt.show()",
      "metadata": {},
      "execution_count": null,
      "outputs": [],
      "id": "6a1bdd86-89e6-4399-a1c3-5f2cef61808f"
    },
    {
      "cell_type": "code",
      "source": "def LABEL_ENCODING(c1):\n    from sklearn import preprocessing\n    label_encoder = preprocessing.LabelEncoder()\n    data[c1]= label_encoder.fit_transform(data[c1])\n    data[c1].unique()\nLABEL_ENCODING(\"weather\")\ndata",
      "metadata": {},
      "execution_count": null,
      "outputs": [],
      "id": "4229aa07-d249-43dd-9cfd-2a5eb1516453"
    },
    {
      "cell_type": "code",
      "source": "data = data.drop('date',axis=1)",
      "metadata": {},
      "execution_count": null,
      "outputs": [],
      "id": "ed88aa5d-669c-4362-9d0c-c7e06d9c0d70"
    },
    {
      "cell_type": "code",
      "source": "x = data.drop('weather',axis=1)\ny = data['weather']",
      "metadata": {},
      "execution_count": null,
      "outputs": [],
      "id": "0701655b-d8b2-4d1d-a39a-3ce113178eeb"
    },
    {
      "cell_type": "code",
      "source": "#MODEL PRIDCTION ",
      "metadata": {},
      "execution_count": null,
      "outputs": [],
      "id": "7dcc6b03-d517-498f-bfb1-c4b925239461"
    },
    {
      "cell_type": "code",
      "source": "from sklearn.model_selection import train_test_split\nX_train, X_test, y_train, y_test = train_test_split(x, y, test_size = 0.25, random_state = 0)",
      "metadata": {},
      "execution_count": null,
      "outputs": [],
      "id": "040fd79d-16f7-4596-87b4-aaab57aed1da"
    },
    {
      "cell_type": "code",
      "source": "print(X_train.shape)\nprint(X_test.shape)\nprint(y_train.shape)\nprint(y_test.shape)",
      "metadata": {},
      "execution_count": null,
      "outputs": [],
      "id": "1baa421f-404e-4cc4-af7c-e068b518d1da"
    },
    {
      "cell_type": "code",
      "source": "from sklearn.preprocessing import StandardScaler\nsc = StandardScaler()\nX_train = sc.fit_transform(X_train)\nX_test = sc.transform(X_test)",
      "metadata": {},
      "execution_count": null,
      "outputs": [],
      "id": "eb5f2dac-d933-4e03-b176-113f6757adc0"
    },
    {
      "cell_type": "code",
      "source": "from sklearn.linear_model import LogisticRegression\nclassifier = LogisticRegression(random_state = 0)\nclassifier.fit(X_train, y_train)",
      "metadata": {},
      "execution_count": null,
      "outputs": [],
      "id": "93924e00-b24e-4f36-9338-0cd5f9ed4493"
    },
    {
      "cell_type": "code",
      "source": "y_pred = classifier.predict(X_test)",
      "metadata": {},
      "execution_count": null,
      "outputs": [],
      "id": "34f836f1-eb59-4ec0-808e-44f6a065d47e"
    },
    {
      "cell_type": "code",
      "source": "print(y_pred)\n",
      "metadata": {},
      "execution_count": null,
      "outputs": [],
      "id": "e9b0428e-59bc-493b-a1f9-dd3a4dabe4dc"
    },
    {
      "cell_type": "code",
      "source": "from sklearn.metrics import confusion_matrix, accuracy_score\ncm = confusion_matrix(y_test, y_pred)\nprint(cm)",
      "metadata": {},
      "execution_count": null,
      "outputs": [],
      "id": "dd5ce265-e039-4a78-97f1-7f809259d63a"
    },
    {
      "cell_type": "code",
      "source": "sns.heatmap(cm,annot=True)\nplt.show()",
      "metadata": {},
      "execution_count": null,
      "outputs": [],
      "id": "ac50e4ad-27ae-4b13-b0b8-581ad6fb8027"
    },
    {
      "cell_type": "code",
      "source": "acc1 = accuracy_score(y_test, y_pred)\nprint(f\"Accuracy score: {acc1}\")",
      "metadata": {},
      "execution_count": null,
      "outputs": [],
      "id": "bb4ebdca-344b-44c5-a215-9971ef2ba181"
    },
    {
      "cell_type": "code",
      "source": "#SVM MACHINE LEARNING MODEL DEPLOY",
      "metadata": {},
      "execution_count": null,
      "outputs": [],
      "id": "ba4a6782-27b2-4836-8863-07efb4bbd595"
    },
    {
      "cell_type": "code",
      "source": "from sklearn.svm import SVC\nclassifier = SVC(kernel = 'linear', random_state = 0)\nclassifier.fit(X_train, y_train)",
      "metadata": {},
      "execution_count": null,
      "outputs": [],
      "id": "9112fbc7-5761-4849-a38b-1d30f921be98"
    },
    {
      "cell_type": "code",
      "source": "y_pred = classifier.predict(X_test)",
      "metadata": {},
      "execution_count": null,
      "outputs": [],
      "id": "975580f0-067a-4d2d-9ecd-8ecf14ac2bfb"
    },
    {
      "cell_type": "code",
      "source": "cm = confusion_matrix(y_test, y_pred)\nprint(cm)\nacc2 = accuracy_score(y_test, y_pred)",
      "metadata": {},
      "execution_count": null,
      "outputs": [],
      "id": "5b1cd9c4-8f7e-46d6-a3a0-41b611b39118"
    },
    {
      "cell_type": "code",
      "source": "print(f\"Accuracy score: {acc2}\")",
      "metadata": {},
      "execution_count": null,
      "outputs": [],
      "id": "326a7310-78ff-4d51-a63a-d3f3268845d5"
    },
    {
      "cell_type": "code",
      "source": "               Training the K-NN model on the Training ",
      "metadata": {},
      "execution_count": null,
      "outputs": [],
      "id": "66b047f1-31cb-42f0-af8d-b4cb451e62a7"
    },
    {
      "cell_type": "code",
      "source": "from sklearn.neighbors import KNeighborsClassifier\nclassifier = KNeighborsClassifier(n_neighbors = 5, metric = 'minkowski', p = 2)\nclassifier.fit(X_train, y_train)",
      "metadata": {},
      "execution_count": null,
      "outputs": [],
      "id": "2205519e-6cf7-4e8b-a204-05f75e188c9f"
    },
    {
      "cell_type": "code",
      "source": "y_pred = classifier.predict(X_test)",
      "metadata": {},
      "execution_count": null,
      "outputs": [],
      "id": "6c942616-dd04-4e10-bec4-9a00c5dff76c"
    },
    {
      "cell_type": "code",
      "source": "cm = confusion_matrix(y_test, y_pred)\nprint(cm)",
      "metadata": {},
      "execution_count": null,
      "outputs": [],
      "id": "0aa736b5-a640-4c24-a6ff-b66ce66755c6"
    },
    {
      "cell_type": "code",
      "source": "acc3 = accuracy_score(y_test, y_pred)\nprint(f\"Accuracy score: {acc3}\")",
      "metadata": {},
      "execution_count": null,
      "outputs": [],
      "id": "7e84ca07-a4cf-4554-a0a6-e1edf6826233"
    },
    {
      "cell_type": "code",
      "source": "# Training the Naive Bayes on the Training set ",
      "metadata": {},
      "execution_count": null,
      "outputs": [],
      "id": "d0d1de16-5bb6-4584-9d7c-1bf61300409a"
    },
    {
      "cell_type": "code",
      "source": "from sklearn.naive_bayes import GaussianNB\nclassifier = GaussianNB()\nclassifier.fit(X_train, y_train)",
      "metadata": {},
      "execution_count": null,
      "outputs": [],
      "id": "80a85256-2c7f-4b05-9645-269ea30e8a4c"
    },
    {
      "cell_type": "code",
      "source": "y_pred = classifier.predict(X_test)",
      "metadata": {},
      "execution_count": null,
      "outputs": [],
      "id": "a1c74952-4e73-40eb-b3c0-733e424058ed"
    },
    {
      "cell_type": "code",
      "source": "cm = confusion_matrix(y_test, y_pred)\nprint(cm)",
      "metadata": {},
      "execution_count": null,
      "outputs": [],
      "id": "a8d17c3a-8304-40d3-a41e-1686bd0d8100"
    },
    {
      "cell_type": "code",
      "source": "acc4 = accuracy_score(y_test, y_pred)\nprint(f\"Accuracy score : {acc4}\")",
      "metadata": {},
      "execution_count": null,
      "outputs": [],
      "id": "50a4e3b9-9318-47de-a632-990076873f75"
    },
    {
      "cell_type": "code",
      "source": " # Training Decision Tree Classification on Train set",
      "metadata": {},
      "execution_count": null,
      "outputs": [],
      "id": "aa357793-ac22-44c0-bd3d-e26f67a1a535"
    },
    {
      "cell_type": "code",
      "source": "from sklearn.tree import DecisionTreeClassifier\nclassifier = DecisionTreeClassifier(criterion = 'entropy', random_state = 0)\nclassifier.fit(X_train, y_train)",
      "metadata": {},
      "execution_count": null,
      "outputs": [],
      "id": "2212ef81-d6ed-4198-bbcc-52c2dd238a8c"
    },
    {
      "cell_type": "code",
      "source": "y_pred = classifier.predict(X_test)",
      "metadata": {},
      "execution_count": null,
      "outputs": [],
      "id": "8b03f7df-f23c-44d7-8db5-0a1de56a2f52"
    },
    {
      "cell_type": "code",
      "source": "print (y_pred)",
      "metadata": {},
      "execution_count": null,
      "outputs": [],
      "id": "8f2553be-6eb2-4ebd-9f33-96ab50851af8"
    },
    {
      "cell_type": "code",
      "source": "cm = confusion_matrix(y_test, y_pred)\nprint(cm)",
      "metadata": {},
      "execution_count": null,
      "outputs": [],
      "id": "daeaa777-4407-4d8d-8f0e-ef75c3198c71"
    },
    {
      "cell_type": "code",
      "source": "sns.heatmap(cm,annot=True)",
      "metadata": {},
      "execution_count": null,
      "outputs": [],
      "id": "de5211ce-b28c-46ed-9eac-0688e3677056"
    },
    {
      "cell_type": "code",
      "source": "acc5 = accuracy_score(y_test, y_pred)\nprint(f\"Accuracy score: {acc5}\")",
      "metadata": {},
      "execution_count": null,
      "outputs": [],
      "id": "0171545c-5aa7-49e4-96f9-81a459470bc9"
    },
    {
      "cell_type": "code",
      "source": "#Random Forest Classifier  ",
      "metadata": {},
      "execution_count": null,
      "outputs": [],
      "id": "80265acd-086c-4ca4-8b19-3ddaa7a0224d"
    },
    {
      "cell_type": "code",
      "source": "from sklearn.ensemble import RandomForestClassifier\nforest= RandomForestClassifier(n_estimators =40, random_state = 0)\nforest.fit(X_train,y_train)\nRandomForestClassifier(n_estimators=40, random_state=0)\ny_pred = forest.predict(X_test)\ncm = confusion_matrix(y_test,y_pred)",
      "metadata": {},
      "execution_count": null,
      "outputs": [],
      "id": "186b2d57-0d82-407d-9370-85a220af12f6"
    },
    {
      "cell_type": "code",
      "source": "sns.heatmap(cm,annot=True)",
      "metadata": {},
      "execution_count": null,
      "outputs": [],
      "id": "357b9b1d-1d62-44d8-9efc-3b733b49a833"
    },
    {
      "cell_type": "code",
      "source": "from sklearn.metrics import classification_report\nprint(classification_report(y_test,y_pred))",
      "metadata": {},
      "execution_count": null,
      "outputs": [],
      "id": "72730581-51ec-44d1-9d6d-9a807a1e4400"
    },
    {
      "cell_type": "code",
      "source": "acc6 = forest.score(X_test,y_test)\nprint(acc6)",
      "metadata": {},
      "execution_count": null,
      "outputs": [],
      "id": "d839e561-516a-4e9d-aa93-eb118a9fab37"
    },
    {
      "cell_type": "code",
      "source": "# Training XGBoost on the Training set",
      "metadata": {},
      "execution_count": null,
      "outputs": [],
      "id": "0738f85b-da2c-4069-a6b6-bbea844fba88"
    },
    {
      "cell_type": "code",
      "source": "from xgboost import XGBClassifier\nclassifier = XGBClassifier()\nclassifier.fit(X_train, y_train)",
      "metadata": {},
      "execution_count": null,
      "outputs": [],
      "id": "44396c90-6394-4c9c-a760-55b01e61fbb4"
    },
    {
      "cell_type": "code",
      "source": "y_pred = classifier.predict(X_test)\ncm = confusion_matrix(y_test, y_pred)\nprint(cm)\nacc7 = accuracy_score(y_test, y_pred)",
      "metadata": {},
      "execution_count": null,
      "outputs": [],
      "id": "aeaa3d69-be35-4e0a-8467-e1a207e7f048"
    },
    {
      "cell_type": "code",
      "source": "print(acc7)",
      "metadata": {},
      "execution_count": null,
      "outputs": [],
      "id": "424fe44f-f3f5-49ad-84e8-5d044fb5dcf0"
    },
    {
      "cell_type": "code",
      "source": "#Create visualization for all model with their Accuracy",
      "metadata": {},
      "execution_count": null,
      "outputs": [],
      "id": "ee411f8c-1cc3-4851-b630-467e235b7622"
    },
    {
      "cell_type": "code",
      "source": "mylist=[]\nmylist2=[]\nmylist.append(acc1)\nmylist2.append(\"Logistic Regression\")\nmylist.append(acc2)\nmylist2.append(\"SVM\")\nmylist.append(acc3)\nmylist2.append(\"KNN\")\nmylist.append(acc4)\nmylist2.append(\"Naive Bayes\")\nmylist.append(acc5)\nmylist2.append(\"DTR\")\nmylist.append(acc6)\nmylist2.append(\"RF\")\nmylist.append(acc7)\nmylist2.append(\"XGBoost\")\nplt.rcParams['figure.figsize']=8,6\nsns.set_style(\"darkgrid\")\nplt.figure(figsize=(22,8))\nax = sns.barplot(x=mylist2, y=mylist, palette = \"mako\", saturation =1.5)\nplt.xlabel(\"Classification Models\", fontsize = 20 )\nplt.ylabel(\"Accuracy\", fontsize = 20)\nplt.title(\"Accuracy of different Classification Models\", fontsize = 20)\nplt.xticks(fontsize = 11, horizontalalignment = 'center', rotation = 8)\nplt.yticks(fontsize = 13)\nfor p in ax.patches:\n    width, height = p.get_width(), p.get_height()\n    x, y = p.get_xy() \n    ax.annotate(f'{height:.2%}', (x + width/2, y + height*1.02), ha='center', fontsize = 'x-large')\nplt.show()",
      "metadata": {},
      "execution_count": null,
      "outputs": [],
      "id": "6307ed9f-d6ef-42e7-a61a-57876695644f"
    },
    {
      "cell_type": "code",
      "source": "",
      "metadata": {},
      "execution_count": null,
      "outputs": [],
      "id": "54c68b6f-d2a9-4b5c-b293-13b743283060"
    }
  ]
}